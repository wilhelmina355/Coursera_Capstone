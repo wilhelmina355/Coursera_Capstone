{
    "cells": [
        {
            "metadata": {
                "collapsed": true
            },
            "cell_type": "markdown",
            "source": "# Week 4 Introduction: Framing the business problem\n\n\nIntroduction: You have been approached by a local business owner. He is interested in expanding his business interests by opening a coffeeshop or cafe in Toronto, Canada, with the option of opening more branches within the region if it is commercially successful.\nThe local business owner believes in the data science approach wants you to study the existing infrastructure of relevant businesses in Canada and make recommendations based on that.\nAs a data scientist and having had a cursory look at the requirements, I have told the business owner that I will be able to analyse businesses around the Toronto area and make a list of recommendations to the business owner on where to set up the coffee shops and cafes. This will be done by a finding out the natural center of the clusters. Hopefully this will serve as an extra recommendation point for the business owner to consider when setting up the coffee shops."
        },
        {
            "metadata": {},
            "cell_type": "markdown",
            "source": "# Week 4 Data\nData: The initial location data used will be from wikipedia to get the main list of boroughs and neighbourhood information. Using this information, Foursquare may use the location to return a lists of businesses in the area. The business data used will be from the foursquare API. Foursquare provides accurate crowd-sourced information on businesses in the area.\nThe Wikipedia data will be enhanced to finally provide to following data for Toronto, Ontario:\nPostcode\nBurrough\nNeighbourhoods in Burrough\nGeographical Coordinates (Longitude, Latitude)\nThe Foursquare data will provide important information to be used for data analysis such as\nBusiness Name\nType of Business (Resturance, Library etc)\nGeographical Coordinates (Longitude, Latitude)\nApproach: The Wikipedia data will be initially generated, then enhanced to include geographical coordinates. The data will then be fed into the Foursquare API to generate a list of trending businesses around these Burroughs. Using this data, we can then proceed to perform data science techniques."
        },
        {
            "metadata": {},
            "cell_type": "markdown",
            "source": "# Methodology  and Summary\n\nMethodology: The approach to the project was as follows. A list of Boroughs and Neighbourhoods were obtained from Wikipedia. Following which, the Boroughs were fed into the 'geocoders' module to obtain its latitude and longitude. This returned a total of 103 viable postcodes. The latitude and longitude were subsequently fed into the Foursquare API to return a list of businesses in the area. Each search of the 103 postcodes returned a limit of 50 businesses in a 1000 radius.\nAs some duplicates were expected from the overlapping radii of the latitude and longitudes, the dataset was cleaned of any duplicates. After removing duplicates the number of businesses stood at 2845.\n\n\nAs the target groups were the Coffee Shops and Cafes, the other businesses were filtered out. This left 321 businesses for analysis.\nK-means clustering was decided to be used for the analysis. The K-means clustering would be able to cluster together the businesses without a target number of clusters to be specified. This would be useful to determine the optimum number of clusters, thus representing the number of branches that can be set up to target.\nThe K-means cluster would also be useful in providing the cluster center, which can be recommended as a geographical location to the business owner as a center point of each cluster.\n\nResults: K-means clustering was run on the longitude and latitude of the data for 1 to 15 clusters.\n\n\nBased on the elbow method, the optimum number of clusters would be in the kink of the graph which is at 4."
        },
        {
            "metadata": {},
            "cell_type": "code",
            "source": "",
            "execution_count": null,
            "outputs": []
        }
    ],
    "metadata": {
        "kernelspec": {
            "name": "python3",
            "display_name": "Python 3.6",
            "language": "python"
        },
        "language_info": {
            "name": "python",
            "version": "3.6.8",
            "mimetype": "text/x-python",
            "codemirror_mode": {
                "name": "ipython",
                "version": 3
            },
            "pygments_lexer": "ipython3",
            "nbconvert_exporter": "python",
            "file_extension": ".py"
        }
    },
    "nbformat": 4,
    "nbformat_minor": 1
}