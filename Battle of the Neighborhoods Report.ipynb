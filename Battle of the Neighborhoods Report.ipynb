{
    "cells": [
        {
            "cell_type": "markdown",
            "metadata": {
                "collapsed": true
            },
            "source": "# Quantity of Venues by Location "
        },
        {
            "cell_type": "markdown",
            "metadata": {},
            "source": "The Goal of the project is to enter a location in the program and find out what quantity of venues there are 1km around it and the quanitity of venues im the other locations around it. It can be used for locations anywhere in the world \n"
        },
        {
            "cell_type": "markdown",
            "metadata": {},
            "source": "Data Used: Foursquare to get the quantity of locations with 1 km radius between them "
        },
        {
            "cell_type": "markdown",
            "metadata": {},
            "source": "## methodology\n- get a start location in latitude and longitude\n- starting from the start location, create a grid of points of locations with 1 km between them, save them as a list\n- for each point use four square to get the number of venues in 1 km radius\n- visualize the points on a map using folium, size of dot will depend on number of venues around it "
        },
        {
            "cell_type": "markdown",
            "metadata": {},
            "source": "# Results/ Discussion \nThe programe can be used for location anywhere in the world. But it is important to keep in mind that foursquare might have more data about venues in english speaking locations than others. If someone enters a location in Beijing, and nearly no venues result that doesn't mean Beijing lacks venues, rather not enough data are available in fou"
        }
    ],
    "metadata": {
        "kernelspec": {
            "display_name": "Python 3.6",
            "language": "python",
            "name": "python3"
        },
        "language_info": {
            "codemirror_mode": {
                "name": "ipython",
                "version": 3
            },
            "file_extension": ".py",
            "mimetype": "text/x-python",
            "name": "python",
            "nbconvert_exporter": "python",
            "pygments_lexer": "ipython3",
            "version": "3.6.8"
        }
    },
    "nbformat": 4,
    "nbformat_minor": 1
}